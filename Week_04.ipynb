{
  "nbformat": 4,
  "nbformat_minor": 0,
  "metadata": {
    "colab": {
      "provenance": [],
      "authorship_tag": "ABX9TyOyQSaXImqmwTR8GEIKIJG8",
      "include_colab_link": true
    },
    "kernelspec": {
      "name": "python3",
      "display_name": "Python 3"
    },
    "language_info": {
      "name": "python"
    }
  },
  "cells": [
    {
      "cell_type": "markdown",
      "metadata": {
        "id": "view-in-github",
        "colab_type": "text"
      },
      "source": [
        "<a href=\"https://colab.research.google.com/github/AthThahiru/Laporan-hasil-praktikum-week-4/blob/main/Week_04.ipynb\" target=\"_parent\"><img src=\"https://colab.research.google.com/assets/colab-badge.svg\" alt=\"Open In Colab\"/></a>"
      ]
    },
    {
      "cell_type": "markdown",
      "source": [
        "# Awalan\n"
      ],
      "metadata": {
        "id": "5vYlI1pyyY78"
      }
    },
    {
      "cell_type": "code",
      "execution_count": null,
      "metadata": {
        "id": "7XJKaTxBxf_O",
        "colab": {
          "base_uri": "https://localhost:8080/"
        },
        "outputId": "d1e8987e-7fac-469a-c5cd-d6d0c55e701d"
      },
      "outputs": [
        {
          "output_type": "execute_result",
          "data": {
            "text/plain": [
              "False"
            ]
          },
          "metadata": {},
          "execution_count": 5
        }
      ],
      "source": [
        "# Mencoba ==\n",
        "\n",
        "x =  5\n",
        "x == 7"
      ]
    },
    {
      "cell_type": "code",
      "source": [
        "# Mencoba > <\n",
        "\n",
        "y =  7\n",
        "y >  x"
      ],
      "metadata": {
        "colab": {
          "base_uri": "https://localhost:8080/"
        },
        "id": "Z4nBgVnvzKRw",
        "outputId": "0156525b-9544-4df3-de3c-9cd0a6f31671"
      },
      "execution_count": null,
      "outputs": [
        {
          "output_type": "execute_result",
          "data": {
            "text/plain": [
              "True"
            ]
          },
          "metadata": {},
          "execution_count": 6
        }
      ]
    },
    {
      "cell_type": "code",
      "source": [
        "# Mencoba !=\n",
        "\n",
        "x != y"
      ],
      "metadata": {
        "colab": {
          "base_uri": "https://localhost:8080/"
        },
        "id": "HCjM0N7WzUF0",
        "outputId": "25f697cc-a481-4702-f497-2e0c59becdcc"
      },
      "execution_count": null,
      "outputs": [
        {
          "output_type": "execute_result",
          "data": {
            "text/plain": [
              "True"
            ]
          },
          "metadata": {},
          "execution_count": 7
        }
      ]
    },
    {
      "cell_type": "code",
      "source": [
        "# Mencoba menggunakan str\n",
        "\n",
        "\"Hello\" == \"World\""
      ],
      "metadata": {
        "colab": {
          "base_uri": "https://localhost:8080/"
        },
        "id": "KGG3U5VzzpMf",
        "outputId": "14c6b710-0739-46d7-c841-976c76d75460"
      },
      "execution_count": null,
      "outputs": [
        {
          "output_type": "execute_result",
          "data": {
            "text/plain": [
              "False"
            ]
          },
          "metadata": {},
          "execution_count": 8
        }
      ]
    },
    {
      "cell_type": "code",
      "source": [
        "# Mencoba lagi\n",
        "\n",
        "\"B\"  <  \"C\""
      ],
      "metadata": {
        "colab": {
          "base_uri": "https://localhost:8080/"
        },
        "id": "_lGFsv4O0WB3",
        "outputId": "7d8c4ea2-7a17-42ea-ebaa-0214e9f73a3f"
      },
      "execution_count": null,
      "outputs": [
        {
          "output_type": "execute_result",
          "data": {
            "text/plain": [
              "True"
            ]
          },
          "metadata": {},
          "execution_count": 16
        }
      ]
    },
    {
      "cell_type": "code",
      "source": [
        "# Lagi\n",
        "\n",
        "\"B\"  <  \"b\""
      ],
      "metadata": {
        "colab": {
          "base_uri": "https://localhost:8080/"
        },
        "id": "sL0aF-U904kD",
        "outputId": "93ecc349-81ba-4866-f665-2ccc6646c728"
      },
      "execution_count": null,
      "outputs": [
        {
          "output_type": "execute_result",
          "data": {
            "text/plain": [
              "True"
            ]
          },
          "metadata": {},
          "execution_count": 18
        }
      ]
    },
    {
      "cell_type": "code",
      "source": [
        "# Latihan penerapannya\n",
        "\n",
        "age    = int(input(\"Masukkan umurmu : \"))\n",
        "\n",
        "if   age > 18    :\n",
        "  print(\"Silahkan masuk\")\n",
        "  print(\"Semoga harimu menyenangkan\")\n",
        "\n",
        "elif age <= 18 :\n",
        "  print(\"Anda belum cukup umur\")\n",
        "  print(\"Silahkan coba lagi tahun depan :p\")\n",
        "\n",
        "# Akhirnya :v"
      ],
      "metadata": {
        "colab": {
          "base_uri": "https://localhost:8080/"
        },
        "id": "FiIP9G-61D2s",
        "outputId": "955d66a0-62e9-453e-fe7c-27b9f98447f2"
      },
      "execution_count": null,
      "outputs": [
        {
          "output_type": "stream",
          "name": "stdout",
          "text": [
            "Masukkan umurmu : 12\n",
            "Anda belum cukup umur\n",
            "Silahkan coba lagi tahun depan :p\n"
          ]
        }
      ]
    },
    {
      "cell_type": "markdown",
      "source": [
        "# Quizzz"
      ],
      "metadata": {
        "id": "bDh5doh18nUd"
      }
    },
    {
      "cell_type": "code",
      "source": [
        "\n",
        "print        (\"Alat penilai album\")\n",
        "\n",
        "album      = float(input(\"Masukkan rating album : \"). replace (\",\" , \".\"))\n",
        "\n",
        "if   album >  8 :\n",
        "     print   (\"Album ini Luar Biasa!\")\n",
        "\n",
        "elif album <= 8 :\n",
        "     print   (\"Album ini Lumayan\")\n"
      ],
      "metadata": {
        "colab": {
          "base_uri": "https://localhost:8080/"
        },
        "id": "dSwmjV4c8vRp",
        "outputId": "4b1ecd0c-6a29-45b9-c01c-00be3c6b89fd"
      },
      "execution_count": null,
      "outputs": [
        {
          "output_type": "stream",
          "name": "stdout",
          "text": [
            "Alat penilai album\n",
            "Masukkan rating album : 8\n",
            "Album ini Lumayan\n"
          ]
        }
      ]
    },
    {
      "cell_type": "code",
      "source": [
        "# Quiz yang terakhir saya masih blm paham harus membuat apa hehe"
      ],
      "metadata": {
        "id": "w-83BBDL0jX6"
      },
      "execution_count": null,
      "outputs": []
    },
    {
      "cell_type": "markdown",
      "source": [
        "# Latihan mingguan 1"
      ],
      "metadata": {
        "id": "6C12tu3xBPxu"
      }
    },
    {
      "cell_type": "code",
      "source": [
        "# Program untuk mengecek bisa atau tidaknya untuk membuat SIM\n",
        "\n",
        "umur          = int(input(\"Masukkan umur anda : \"))\n",
        "\n",
        "if umur >= 17 :\n",
        "  print(\"Anda bisa membuat SIM\")\n",
        "\n",
        "else          :\n",
        "  print(\"Anda belum bisa membuat SIM\")"
      ],
      "metadata": {
        "colab": {
          "base_uri": "https://localhost:8080/"
        },
        "id": "Z2e3b83uBPEJ",
        "outputId": "343df7e4-62e2-4edb-f2f5-69c014dbaff8"
      },
      "execution_count": null,
      "outputs": [
        {
          "output_type": "stream",
          "name": "stdout",
          "text": [
            "Masukkan umur anda : 16\n",
            "Anda belum bisa membuat SIM\n"
          ]
        }
      ]
    },
    {
      "cell_type": "markdown",
      "source": [
        "# Latihan Mingguan 2"
      ],
      "metadata": {
        "id": "X7fns_KvCSqR"
      }
    },
    {
      "cell_type": "code",
      "source": [
        "# Program untuk mengecek atau memberi grade\n",
        "\n",
        "nilai          = float(input(\"Masukkan Nilai : \"). replace (\",\" , \".\"))\n",
        "\n",
        "if   nilai >= 90 :\n",
        "     grade = \"A\"\n",
        "\n",
        "elif nilai >= 80 :\n",
        "     grade = \"B+\"\n",
        "\n",
        "elif nilai >= 70 :\n",
        "     grade = \"B\"\n",
        "\n",
        "elif nilai >= 60 :\n",
        "     grade = \"C+\"\n",
        "\n",
        "elif nilai >= 50 :\n",
        "     grade = \"C\"\n",
        "\n",
        "elif nilai >= 40 :\n",
        "     grade = \"D\"\n",
        "\n",
        "else             :\n",
        "     grade = \"E\"\n",
        "\n",
        "\n",
        "print (\"Grade anda     :\", grade)"
      ],
      "metadata": {
        "colab": {
          "base_uri": "https://localhost:8080/"
        },
        "id": "blsBisXvCV8E",
        "outputId": "aff58c83-c0eb-4bed-afbc-4d09830a797f"
      },
      "execution_count": null,
      "outputs": [
        {
          "output_type": "stream",
          "name": "stdout",
          "text": [
            "Masukkan Nilai : 90\n",
            "Grade anda     : A\n"
          ]
        }
      ]
    },
    {
      "cell_type": "markdown",
      "source": [
        "# Latihan Mingguan 3"
      ],
      "metadata": {
        "id": "bNhFN8ZDFa1l"
      }
    },
    {
      "cell_type": "code",
      "source": [
        "nilai          = float(input(\"Masukkan Nilai : \"). replace (\",\" , \".\"))\n",
        "\n",
        "if   nilai >= 80    :\n",
        "     grade = \"A\"\n",
        "\n",
        "elif nilai >= 77.50 :\n",
        "     grade = \"A-\"\n",
        "\n",
        "elif nilai >= 75    :\n",
        "     grade = \"A/B\"\n",
        "\n",
        "elif nilai >= 72.50 :\n",
        "     grade = \"B+\"\n",
        "\n",
        "elif nilai >= 70    :\n",
        "     grade = \"B\"\n",
        "\n",
        "elif nilai >= 67.50 :\n",
        "     grade = \"B-\"\n",
        "\n",
        "elif nilai >= 65    :\n",
        "     grade = \"B/C\"\n",
        "\n",
        "elif nilai >= 62.50 :\n",
        "     grade = \"C+\"\n",
        "\n",
        "elif nilai >= 60    :\n",
        "     grade = \"C\"\n",
        "\n",
        "elif nilai >= 55    :\n",
        "     grade = \"C-\"\n",
        "\n",
        "elif nilai >= 50    :\n",
        "     grade = \"C/D\"\n",
        "\n",
        "elif nilai >= 45    :\n",
        "     grade = \"D+\"\n",
        "\n",
        "elif nilai >= 40    :\n",
        "     grade = \"D\"\n",
        "\n",
        "else                :\n",
        "     grade = \"E\"\n",
        "\n",
        "\n",
        "print (\"Grade anda     :\", grade)"
      ],
      "metadata": {
        "colab": {
          "base_uri": "https://localhost:8080/"
        },
        "id": "q2ZViWJ1FZ1Y",
        "outputId": "35ba12b7-4408-434e-bcf5-a21a6f721954"
      },
      "execution_count": null,
      "outputs": [
        {
          "output_type": "stream",
          "name": "stdout",
          "text": [
            "Masukkan Nilai : 79,89\n",
            "Grade anda     : A-\n"
          ]
        }
      ]
    }
  ]
}